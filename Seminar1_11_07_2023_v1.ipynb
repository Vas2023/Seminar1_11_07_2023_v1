{
 "cells": [
  {
   "cell_type": "markdown",
   "metadata": {},
   "source": [
    "<img align=\"center\" src=\"https://i.pinimg.com/originals/f9/20/5f/f9205f36282c0ba4b6e120602a45a02e.png\" height=\"1200\" width=\"1200\"> "
   ]
  },
  {
   "cell_type": "markdown",
   "metadata": {},
   "source": [
    "Jupyter Notebook - интерактивная среда для запуска программного кода в браузере. Удобный инструмент для анализа данных, который используется многими специалистами по data science. Позволяет выполнять отдельные ячейки с кодом, а не всю программу сразу, что очень удобно при исследованиях и последовательных манипуляциях с данными.\n",
    "\n",
    "Напиши в ячейке ниже `2 + 2` и нажми на кнопки __Shift__ и __Enter__ одновременно. Твой код выполнится и ты увидишь ответ. Дальше так и будем писать код. "
   ]
  },
  {
   "cell_type": "markdown",
   "metadata": {},
   "source": [
    "<h1>Htu</h1> "
   ]
  },
  {
   "cell_type": "markdown",
   "metadata": {},
   "source": [
    "<center>\n",
    "<img src=\"http://i0.kym-cdn.com/photos/images/original/000/234/765/b7e.jpg\" height=\"400\" width=\"400\">"
   ]
  },
  {
   "cell_type": "code",
   "execution_count": 1,
   "metadata": {},
   "outputs": [],
   "source": [
    "# дан список\n",
    "items = [5, -24, 76, 44, 4, -16, 57, 0, -11,\n",
    "         98, 13, 80, 16, 30, -27, -21, 78, 72]"
   ]
  },
  {
   "cell_type": "markdown",
   "metadata": {},
   "source": [
    "### Задачка 0:\n",
    "\n",
    "Найди произведение первого и последнего элемента из `items`."
   ]
  },
  {
   "cell_type": "code",
   "execution_count": 2,
   "metadata": {},
   "outputs": [
    {
     "name": "stdout",
     "output_type": "stream",
     "text": [
      "360\n"
     ]
    }
   ],
   "source": [
    "print(items[0]*items[-1])"
   ]
  },
  {
   "cell_type": "markdown",
   "metadata": {},
   "source": [
    "### Задачка 1: \n",
    "\n",
    "Найди частное суммы первых трех элементов, начиная со второго и суммы последних двух элементов"
   ]
  },
  {
   "cell_type": "code",
   "execution_count": null,
   "metadata": {},
   "outputs": [
    {
     "name": "stdout",
     "output_type": "stream",
     "text": [
      "0.64\n"
     ]
    }
   ],
   "source": [
    "### ╰( ͡° ͜ʖ ͡° )つ──☆*:・ﾟ твой код\n",
    "print((items[1]+items[2]+items[3])/(items[-2]+items[-1]))"
   ]
  },
  {
   "cell_type": "markdown",
   "metadata": {},
   "source": [
    "### Задачка 2:\n",
    "\n",
    "Найди размах выборки (разницу между максимальным и минимальным элементами)"
   ]
  },
  {
   "cell_type": "code",
   "execution_count": 4,
   "metadata": {},
   "outputs": [
    {
     "name": "stdout",
     "output_type": "stream",
     "text": [
      "125\n"
     ]
    }
   ],
   "source": [
    "### ╰( ͡° ͜ʖ ͡° )つ──☆*:・ﾟ твой код\n",
    "def find_range(data):\n",
    "    data_range = max(data) - min(data)\n",
    "    return data_range\n",
    "\n",
    "range_result = find_range(items)\n",
    "print(range_result)"
   ]
  },
  {
   "cell_type": "markdown",
   "metadata": {},
   "source": [
    "### Задачка 3:\n",
    "\n",
    "Найди среднее значение: $\\displaystyle \\frac{1}{n}\\sum_{i=1}^n a_i$, где $n$ - размер выборки"
   ]
  },
  {
   "cell_type": "code",
   "execution_count": 5,
   "metadata": {},
   "outputs": [
    {
     "name": "stdout",
     "output_type": "stream",
     "text": [
      "0    26.333333\n",
      "dtype: float64\n"
     ]
    }
   ],
   "source": [
    "import pandas as pd\n",
    "### ╰( ͡° ͜ʖ ͡° )つ──☆*:・ﾟ твой код\n",
    "itemsPD=pd.DataFrame(items)\n",
    "print(itemsPD.mean())"
   ]
  },
  {
   "cell_type": "markdown",
   "metadata": {},
   "source": [
    "### Задачка 4\n",
    "\n",
    "Найди медиану."
   ]
  },
  {
   "cell_type": "code",
   "execution_count": 6,
   "metadata": {},
   "outputs": [
    {
     "data": {
      "text/plain": [
       "0    14.5\n",
       "dtype: float64"
      ]
     },
     "execution_count": 6,
     "metadata": {},
     "output_type": "execute_result"
    }
   ],
   "source": [
    "itemsPD.median()"
   ]
  },
  {
   "cell_type": "markdown",
   "metadata": {},
   "source": [
    "### Задачка 5\n",
    " Удали третье значение и найди медиану."
   ]
  },
  {
   "cell_type": "code",
   "execution_count": 7,
   "metadata": {},
   "outputs": [
    {
     "data": {
      "text/plain": [
       "0    13.0\n",
       "dtype: float64"
      ]
     },
     "execution_count": 7,
     "metadata": {},
     "output_type": "execute_result"
    }
   ],
   "source": [
    "### ╰( ͡° ͜ʖ ͡° )つ──☆*:・ﾟ твой код\n",
    "del items[2]\n",
    "itemsPD=pd.DataFrame(items)\n",
    "itemsPD.median()"
   ]
  },
  {
   "cell_type": "markdown",
   "metadata": {},
   "source": [
    "### Задачка 6\n",
    "\n",
    "Возведи все числа в квадрат."
   ]
  },
  {
   "cell_type": "code",
   "execution_count": 8,
   "metadata": {},
   "outputs": [
    {
     "data": {
      "text/plain": [
       "[0, 1, 2, 3, 4]"
      ]
     },
     "execution_count": 8,
     "metadata": {},
     "output_type": "execute_result"
    }
   ],
   "source": [
    "n=5\n",
    "arr=[]\n",
    "\n",
    "for i in range(n):\n",
    "\n",
    "    arr.append(i)\n",
    "arr"
   ]
  },
  {
   "cell_type": "code",
   "execution_count": 9,
   "metadata": {},
   "outputs": [
    {
     "data": {
      "text/plain": [
       "[0, 1, 4, 9, 16]"
      ]
     },
     "execution_count": 9,
     "metadata": {},
     "output_type": "execute_result"
    }
   ],
   "source": [
    "arr = [i**2 for i in range(n)]\n",
    "arr"
   ]
  },
  {
   "cell_type": "code",
   "execution_count": 10,
   "metadata": {},
   "outputs": [],
   "source": [
    "### ╰( ͡° ͜ʖ ͡° )つ──☆*:・ﾟ твой код\n"
   ]
  },
  {
   "cell_type": "markdown",
   "metadata": {},
   "source": [
    "### Задачка 7\n",
    "\n",
    "Уберите нули из списка. "
   ]
  },
  {
   "cell_type": "code",
   "execution_count": 11,
   "metadata": {},
   "outputs": [
    {
     "data": {
      "text/plain": [
       "[1, 4, 9, 16]"
      ]
     },
     "execution_count": 11,
     "metadata": {},
     "output_type": "execute_result"
    }
   ],
   "source": [
    "### ╰( ͡° ͜ʖ ͡° )つ──☆*:・ﾟ твой код\n",
    "arr_withoutzero=[x for x in arr if x!=0]\n",
    "arr_withoutzero"
   ]
  },
  {
   "cell_type": "markdown",
   "metadata": {},
   "source": [
    "### Задачка 8\n",
    "\n",
    "Замените отрицательные числа на нули. "
   ]
  },
  {
   "cell_type": "code",
   "execution_count": 12,
   "metadata": {},
   "outputs": [
    {
     "data": {
      "text/plain": [
       "[0, 2, 0, 4, 0]"
      ]
     },
     "execution_count": 12,
     "metadata": {},
     "output_type": "execute_result"
    }
   ],
   "source": [
    "### ╰( ͡° ͜ʖ ͡° )つ──☆*:・ﾟ твой код\n",
    "my_list = [-1, 2, -3, 4, -5]\n",
    "new_list=[0 if el<0 else el for el in my_list]\n",
    "new_list"
   ]
  },
  {
   "cell_type": "markdown",
   "metadata": {},
   "source": [
    "### Задачка 9\n",
    "\n",
    "Сначала в списке поместите элементы меньше нуля, в порядке возрастания - затем больше нуля, в порядке убывания.\n"
   ]
  },
  {
   "cell_type": "code",
   "execution_count": 13,
   "metadata": {},
   "outputs": [
    {
     "name": "stdout",
     "output_type": "stream",
     "text": [
      "[-5, -3, -1, 4, 2]\n"
     ]
    }
   ],
   "source": [
    "### ╰( ͡° ͜ʖ ͡° )つ──☆*:・ﾟ твой код\n",
    "nn=sorted([x for x in my_list if x<=0])\n",
    "np=sorted([x for x in my_list if x>0], reverse=True)\n",
    "print(nn+np)"
   ]
  },
  {
   "cell_type": "markdown",
   "metadata": {},
   "source": [
    "# 2. Словари\n"
   ]
  },
  {
   "cell_type": "code",
   "execution_count": 14,
   "metadata": {},
   "outputs": [],
   "source": [
    "items = {3: -2,\n",
    "         4: 'value1',\n",
    "         22: 2,\n",
    "         10: 1.22}"
   ]
  },
  {
   "cell_type": "code",
   "execution_count": 15,
   "metadata": {},
   "outputs": [
    {
     "data": {
      "text/plain": [
       "{3: -2, 4: 'value1', 22: 2, 10: 1.22}"
      ]
     },
     "execution_count": 15,
     "metadata": {},
     "output_type": "execute_result"
    }
   ],
   "source": [
    "items"
   ]
  },
  {
   "cell_type": "markdown",
   "metadata": {},
   "source": [
    "### Задачка 1\n",
    "\n",
    "Добавьте в словарик по ключу `1` значение `-20`. "
   ]
  },
  {
   "cell_type": "code",
   "execution_count": 16,
   "metadata": {},
   "outputs": [],
   "source": [
    "### ╰( ͡° ͜ʖ ͡° )つ──☆*:・ﾟ твой код\n",
    "items[1]=-20"
   ]
  },
  {
   "cell_type": "code",
   "execution_count": 17,
   "metadata": {},
   "outputs": [
    {
     "data": {
      "text/plain": [
       "{3: -2, 4: 'value1', 22: 2, 10: 1.22, 1: -20}"
      ]
     },
     "execution_count": 17,
     "metadata": {},
     "output_type": "execute_result"
    }
   ],
   "source": [
    "items"
   ]
  },
  {
   "cell_type": "markdown",
   "metadata": {},
   "source": [
    "### Задачка 2\n",
    "\n",
    "Какое значение лежит в словаре по самому маленькому ключу."
   ]
  },
  {
   "cell_type": "code",
   "execution_count": 18,
   "metadata": {},
   "outputs": [
    {
     "data": {
      "text/plain": [
       "-20"
      ]
     },
     "execution_count": 18,
     "metadata": {},
     "output_type": "execute_result"
    }
   ],
   "source": [
    "### ╰( ͡° ͜ʖ ͡° )つ──☆*:・ﾟ твой код\n",
    "min_key = min(items.keys())  # Находим минимальный ключ\n",
    "\n",
    "items[min_key]  # Получаем значение по минимальному ключу\n"
   ]
  },
  {
   "cell_type": "markdown",
   "metadata": {},
   "source": [
    "### Задачка 3\n",
    "\n",
    "Удалить этот элемент и заново решить __задачку 2.__"
   ]
  },
  {
   "cell_type": "code",
   "execution_count": 19,
   "metadata": {},
   "outputs": [
    {
     "data": {
      "text/plain": [
       "-2"
      ]
     },
     "execution_count": 19,
     "metadata": {},
     "output_type": "execute_result"
    }
   ],
   "source": [
    "### ╰( ͡° ͜ʖ ͡° )つ──☆*:・ﾟ твой код\n",
    "del items[min_key]\n",
    "min_key = min(items.keys())  # Находим минимальный ключ\n",
    "\n",
    "items[min_key]  # Получаем значение по минимальному ключу\n"
   ]
  },
  {
   "cell_type": "markdown",
   "metadata": {},
   "source": [
    "### Задачка 4\n"
   ]
  },
  {
   "cell_type": "code",
   "execution_count": 20,
   "metadata": {},
   "outputs": [],
   "source": [
    "dict_1 = {1: 10, 2: 20} \n",
    "dict_2 = {3: 30, 4: 40} \n",
    "dict_3 = {3: 50, 6: 60}"
   ]
  },
  {
   "cell_type": "markdown",
   "metadata": {},
   "source": [
    "Объедините все словарки в один. Что происходит со значением, которое лежит по ключу `3`? "
   ]
  },
  {
   "cell_type": "code",
   "execution_count": 21,
   "metadata": {},
   "outputs": [
    {
     "data": {
      "text/plain": [
       "{1: 10, 2: 20, 3: 50, 4: 40, 6: 60}"
      ]
     },
     "execution_count": 21,
     "metadata": {},
     "output_type": "execute_result"
    }
   ],
   "source": [
    "### ╰( ͡° ͜ʖ ͡° )つ──☆*:・ﾟ твой код\n",
    "dict = {}\n",
    "dict.update(dict_1)\n",
    "dict.update(dict_2)\n",
    "dict.update(dict_3)\n",
    "dict"
   ]
  },
  {
   "cell_type": "markdown",
   "metadata": {},
   "source": [
    "### Задачка 5\n",
    "\n",
    "Замените в словаре все значения на их квадраты. "
   ]
  },
  {
   "cell_type": "code",
   "execution_count": 22,
   "metadata": {},
   "outputs": [
    {
     "data": {
      "text/plain": [
       "{1: 100, 2: 400, 3: 2500, 4: 1600, 6: 3600}"
      ]
     },
     "execution_count": 22,
     "metadata": {},
     "output_type": "execute_result"
    }
   ],
   "source": [
    "### ╰( ͡° ͜ʖ ͡° )つ──☆*:・ﾟ твой код\n",
    "squared_dict = {key: value ** 2 for key, value in dict.items()} \n",
    "squared_dict"
   ]
  },
  {
   "cell_type": "markdown",
   "metadata": {},
   "source": [
    "# 3. Условия\n",
    "\n",
    "Синтаксис:\n",
    "\n",
    "```python\n",
    "if условие:\n",
    "    что делать, если оно выполнено \n",
    "elif условие:\n",
    "    что делать, если оно выполнено \n",
    "else:\n",
    "    что делать, если не выполнилось ни одно условие выше\n",
    "```\n",
    "\n",
    "Всё, что происходит внутри условия, отделяется отступом."
   ]
  },
  {
   "cell_type": "markdown",
   "metadata": {},
   "source": [
    "### Задачка 1\n",
    "\n",
    "Определите, является ли год с данным номером года весокосным. Если это так, то выведите YES, иначе выведите NO. Напомним, год является високосным, если его номер кратен 4, но не кратен 100, а также если он кратен 400.\n",
    "\n",
    "**Пример:**\n",
    "\n",
    "> Входные данные:<br />\n",
    "4<br />\n",
    "\n",
    "> Вывод программы: <br />\n",
    "YES"
   ]
  },
  {
   "cell_type": "code",
   "execution_count": 23,
   "metadata": {},
   "outputs": [
    {
     "name": "stdout",
     "output_type": "stream",
     "text": [
      "Введите номер года:1600\n",
      "YES\n"
     ]
    }
   ],
   "source": [
    "### ╰( ͡° ͜ʖ ͡° )つ──☆*:・ﾟ твой код\n",
    "a=int(input(\"Введите номер года:\"))\n",
    "#a=1600\n",
    "if a%4==0:\n",
    "    if a%100==0:\n",
    "        if a%400==0:\n",
    "            print(\"YES\")\n",
    "        else:\n",
    "            print('NO')\n",
    "    else:\n",
    "        print(\"YES\")\n",
    "else:\n",
    "    print(\"NO\")\n",
    "        \n",
    "    "
   ]
  },
  {
   "cell_type": "markdown",
   "metadata": {},
   "source": [
    "# 4. Циклы\n",
    "\n",
    "\n",
    "Синтаксис:\n",
    "\n",
    "```python\n",
    "for i in диапазон_изменений_i:\n",
    "    команды\n",
    "```\n",
    "\n",
    "Все, что происходит внутри цикла, отделяется отступом."
   ]
  },
  {
   "cell_type": "markdown",
   "metadata": {},
   "source": [
    "### Задачка 1\n",
    "\n",
    "\n",
    "Напиши программу для вывода картинки заданной глубины (используйте вложенные циклы).\n",
    "\n",
    "> Входные данные:<br />\n",
    "5<br />\n",
    "\n",
    "> Вывод программы: <br />\n",
    "    * \n",
    "    * * \n",
    "    * * * \n",
    "    * * * * \n",
    "    * * * * * \n",
    "    * * * * \n",
    "    * * * \n",
    "    * * \n",
    "    * "
   ]
  },
  {
   "cell_type": "code",
   "execution_count": 26,
   "metadata": {},
   "outputs": [
    {
     "name": "stdout",
     "output_type": "stream",
     "text": [
      "Введите число:10\n",
      "**************************************************"
     ]
    }
   ],
   "source": [
    "### ╰( ͡° ͜ʖ ͡° )つ──☆*:・ﾟ твой код\n",
    "s=int(input(\"Введите число:\"))\n",
    "for x in range(s):\n",
    "    print(\"*****\",end=\"\")"
   ]
  },
  {
   "cell_type": "markdown",
   "metadata": {},
   "source": [
    "### Задачка 2 \n",
    "\n",
    "Выведите високосные годы между $2000$ и $2700$  Напомним, что високосные годы (если его номер кратен 4, но не кратен 100, а также если он кратен 400).\n",
    "\n",
    "Перечислите все эти годы через запятую."
   ]
  },
  {
   "cell_type": "code",
   "execution_count": 29,
   "metadata": {},
   "outputs": [
    {
     "name": "stdout",
     "output_type": "stream",
     "text": [
      "2000 2004 2008 2012 2016 2020 2024 2028 2032 2036 2040 2044 2048 2052 2056 2060 2064 2068 2072 2076 2080 2084 2088 2092 2096 2104 2108 2112 2116 2120 2124 2128 2132 2136 2140 2144 2148 2152 2156 2160 2164 2168 2172 2176 2180 2184 2188 2192 2196 2204 2208 2212 2216 2220 2224 2228 2232 2236 2240 2244 2248 2252 2256 2260 2264 2268 2272 2276 2280 2284 2288 2292 2296 2304 2308 2312 2316 2320 2324 2328 2332 2336 2340 2344 2348 2352 2356 2360 2364 2368 2372 2376 2380 2384 2388 2392 2396 2400 2404 2408 2412 2416 2420 2424 2428 2432 2436 2440 2444 2448 2452 2456 2460 2464 2468 2472 2476 2480 2484 2488 2492 2496 2504 2508 2512 2516 2520 2524 2528 2532 2536 2540 2544 2548 2552 2556 2560 2564 2568 2572 2576 2580 2584 2588 2592 2596 2604 2608 2612 2616 2620 2624 2628 2632 2636 2640 2644 2648 2652 2656 2660 2664 2668 2672 2676 2680 2684 2688 2692 2696 "
     ]
    }
   ],
   "source": [
    "### ╰( ͡° ͜ʖ ͡° )つ──☆*:・ﾟ твой код\n",
    "def Vis(a):\n",
    "    if a%4==0:\n",
    "        if a%100==0:\n",
    "            if a%400==0:\n",
    "                print(a,end=\" \")\n",
    "        \n",
    "        else:\n",
    "            print(a,end=\" \")\n",
    "for x in range(2000,2701):\n",
    "    Vis(x)"
   ]
  },
  {
   "cell_type": "markdown",
   "metadata": {},
   "source": [
    "# 5. Функции\n",
    "\n",
    "Синтаксис:\n",
    "\n",
    "```python\n",
    "def название функции(список аргументов):\n",
    "    команды\n",
    "    return результат выполнения функции\n",
    "```\n",
    "\n",
    "То, что происходит внутри функции отделяется отступом."
   ]
  },
  {
   "cell_type": "code",
   "execution_count": 3,
   "metadata": {},
   "outputs": [
    {
     "name": "stdout",
     "output_type": "stream",
     "text": [
      "привет\n",
      "тевирп\n"
     ]
    }
   ],
   "source": [
    "string= input()\n",
    "def naoborot(a):\n",
    "    reversed_string = a[::-1]\n",
    "    print(reversed_string)\n",
    "naoborot(string)"
   ]
  },
  {
   "cell_type": "markdown",
   "metadata": {},
   "source": [
    "- Напишите функцию для подсчета числа четных и нечетных чисел. На вход в неё идёт лист из чисел."
   ]
  },
  {
   "cell_type": "code",
   "execution_count": 3,
   "metadata": {},
   "outputs": [
    {
     "name": "stdout",
     "output_type": "stream",
     "text": [
      "Введите число n:100\n",
      "Введите число a:1\n",
      "Введите число b:1000\n",
      "[37, 749, 573, 223, 109, 589, 220, 240, 605, 875, 316, 607, 619, 100, 741, 802, 630, 796, 829, 304, 398, 906, 373, 98, 416, 579, 426, 493, 557, 58, 193, 73, 800, 808, 881, 922, 360, 288, 121, 612, 427, 877, 618, 344, 34, 178, 234, 917, 41, 868, 257, 909, 945, 439, 648, 688, 634, 220, 410, 481, 15, 464, 930, 17, 655, 979, 649, 395, 807, 179, 28, 101, 644, 215, 394, 985, 675, 847, 892, 981, 347, 336, 635, 647, 549, 534, 314, 373, 704, 781, 359, 804, 732, 979, 877, 216, 54, 813, 625, 909]\n",
      "[220, 240, 316, 100, 802, 630, 796, 304, 398, 906, 98, 416, 426, 58, 800, 808, 922, 360, 288, 612, 618, 344, 34, 178, 234, 868, 648, 688, 634, 220, 410, 464, 930, 28, 644, 394, 892, 336, 534, 314, 704, 804, 732, 216, 54]\n",
      "[37, 749, 573, 223, 109, 589, 605, 875, 607, 619, 741, 829, 373, 579, 493, 557, 193, 73, 881, 121, 427, 877, 917, 41, 257, 909, 945, 439, 481, 15, 17, 655, 979, 649, 395, 807, 179, 101, 215, 985, 675, 847, 981, 347, 635, 647, 549, 373, 781, 359, 979, 877, 813, 625, 909]\n"
     ]
    }
   ],
   "source": [
    "\n",
    "import random\n",
    "n=int(input('Введите число n:'))\n",
    "a=int(input('Введите число a:'))\n",
    "b=int(input('Введите число b:'))\n",
    "l = [random.randint(a, b) for _ in range(n)]\n",
    "print(l)\n",
    "resultODD = [x for x in l if x % 2 == 0]\n",
    "resultEVEN = [x for x in l if x % 2 == 1]\n",
    "print(resultODD)\n",
    "print(resultEVEN)\n"
   ]
  },
  {
   "cell_type": "markdown",
   "metadata": {},
   "source": [
    "- запустите генерацию последовательности случайных чисел и посчитайте в ней четные и нечетные элементы"
   ]
  },
  {
   "cell_type": "code",
   "execution_count": 4,
   "metadata": {},
   "outputs": [
    {
     "name": "stdout",
     "output_type": "stream",
     "text": [
      "45\n",
      "55\n"
     ]
    }
   ],
   "source": [
    "print(len(resultODD))\n",
    "print(len(resultEVEN))"
   ]
  },
  {
   "cell_type": "markdown",
   "metadata": {},
   "source": [
    " "
   ]
  }
 ],
 "metadata": {
  "kernelspec": {
   "display_name": "Python 3 (ipykernel)",
   "language": "python",
   "name": "python3"
  },
  "language_info": {
   "codemirror_mode": {
    "name": "ipython",
    "version": 3
   },
   "file_extension": ".py",
   "mimetype": "text/x-python",
   "name": "python",
   "nbconvert_exporter": "python",
   "pygments_lexer": "ipython3",
   "version": "3.8.10"
  },
  "toc": {
   "base_numbering": 1,
   "nav_menu": {},
   "number_sections": false,
   "sideBar": true,
   "skip_h1_title": false,
   "title_cell": "Table of Contents",
   "title_sidebar": "Contents",
   "toc_cell": false,
   "toc_position": {
    "height": "calc(100% - 180px)",
    "left": "10px",
    "top": "150px",
    "width": "264.796875px"
   },
   "toc_section_display": true,
   "toc_window_display": true
  }
 },
 "nbformat": 4,
 "nbformat_minor": 2
}
